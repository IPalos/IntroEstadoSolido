{
 "cells": [
  {
   "cell_type": "code",
   "execution_count": 7,
   "metadata": {},
   "outputs": [],
   "source": [
    "%matplotlib inline\n",
    "\n",
    "import matplotlib.pyplot as plt\n",
    "import math\n",
    "from mpl_toolkits.mplot3d import Axes3D"
   ]
  },
  {
   "cell_type": "code",
   "execution_count": 3,
   "metadata": {},
   "outputs": [],
   "source": [
    "# Convierte Grados Decimales a Grados-Minutos\n",
    "\n",
    "def dms2dd(deg,mins,segs=0):\n",
    "    return deg+(mins/60)+(segs/3600)"
   ]
  },
  {
   "cell_type": "code",
   "execution_count": 16,
   "metadata": {},
   "outputs": [],
   "source": [
    "a=1\n",
    "acos=a*math.cos(math.radians(60))\n",
    "asin=a*math.sin(math.radians(60))\n",
    "puntos=([0,0,0],[-a,0,0],[a,0,0],[acos,asin,0],[-acos,asin,0],[acos,-asin,0],[-acos,-asin,0])\n",
    "puntosX=[]\n",
    "puntosY=[]\n",
    "puntosZ=[]\n",
    "for i in puntos:\n",
    "    puntosX.append(i[0])\n",
    "    puntosY.append(i[1])\n",
    "    puntosZ.append(i[2])"
   ]
  },
  {
   "cell_type": "markdown",
   "metadata": {},
   "source": [
    "## Ejercicio 1"
   ]
  },
  {
   "cell_type": "markdown",
   "metadata": {},
   "source": [
    "#### Mostrar que para una estructura hexagonal compacta ideal, la relación $c/a =\\sqrt{\\frac{8}{3}} \\approx 1.633 $\n",
    "\n",
    "Solución:\n",
    "\n",
    "Primero tenemos que crear un tetraedro utilizando los centros de los átomos, suponiendo que la distancia entre un centro y otro es de $a$. Ahora necesitamos encontrar la posición del centro del átomo de la segunda capa ( marcado en la imagen inferior en azul). Dicha posición es $\\frac{c}{2}$\n",
    "\n",
    "Para eso, necesitamos encontrar el centro de un triángulo equilátero.\n",
    "\n",
    "Sabemos por el teorema de Pitágoras, que la altura de un triángulo equilatero es de \n",
    "\n",
    "\\begin{align}\n",
    "h= \\sqrt{a^2-\\frac{a^2}{4}} = a\\frac{\\sqrt{3}}{2}\n",
    "\\end{align}\n",
    "\n",
    "y que la relación entre \n",
    "\n",
    "\\begin{align}\n",
    "\\frac{a}{r} = \\frac{\\frac{a\\sqrt{3}}{2}}{\\frac{a}{2}}\n",
    "\\end{align}\n",
    "\n",
    "\\begin{align}\n",
    "r=\\frac{a}{\\sqrt{3}}\n",
    "\\end{align}\n",
    "\n",
    "Donde r es la distancia de un vértice al centro del triángulo\n",
    "\n"
   ]
  },
  {
   "cell_type": "code",
   "execution_count": 41,
   "metadata": {},
   "outputs": [
    {
     "data": {
      "text/plain": [
       "<matplotlib.patches.Circle at 0x7f0167333390>"
      ]
     },
     "execution_count": 41,
     "metadata": {},
     "output_type": "execute_result"
    },
    {
     "data": {
      "image/png": "[encoded data removed]",
      "text/plain": [
       "<Figure size 432x288 with 1 Axes>"
      ]
     },
     "metadata": {
      "needs_background": "light"
     },
     "output_type": "display_data"
    }
   ],
   "source": [
    "fig = plt.figure()\n",
    "ax = fig.add_subplot()\n",
    "ax.axis(\"equal\")\n",
    "ax.axis([3,-3,3,-3])\n",
    "for i in range(len(puntosX)):\n",
    "    ax.add_artist(plt.Circle((puntosX[i],puntosY[i]),a/2,color=\"red\"))\n",
    "    ax.add_artist(plt.Circle((puntosX[i],puntosY[i]),a/20,color=\"black\"))\n",
    "    \n",
    "ax.add_artist(plt.Circle((0,-a/math.sqrt(3)),a/2,color=\"blue\"))\n",
    "ax.add_artist(plt.Circle((0,-a/math.sqrt(3)),a/20,color=\"white\"))"
   ]
  },
  {
   "cell_type": "markdown",
   "metadata": {},
   "source": [
    "Aplicando otra vez el teorema de Pitágoras, tenemos que\n",
    "\n",
    "\\begin{align}\n",
    "\\frac{c}{2}=\\sqrt{a^2 - \\frac{a^2}{3}}\n",
    "\\end{align}\n",
    "\n",
    "\\begin{align}\n",
    "c=a\\frac{2\\sqrt{2}}{\\sqrt{3}} = \\boxed{a\\sqrt{\\frac{8}{3}}}\n",
    "\\end{align}\n"
   ]
  },
  {
   "cell_type": "markdown",
   "metadata": {},
   "source": [
    "## Ejercicio 2"
   ]
  },
  {
   "cell_type": "markdown",
   "metadata": {},
   "source": [
    "#### Calcular el número de átomos en la celda unitaria del hierro, que cristaliza en el sistema cúbico simple. Siendo $a={2.27_{x10}}^{-10}m$, Su Peso atómico de 55.845 y $\\delta = 7800 \\frac{km}{m^3}$"
   ]
  },
  {
   "cell_type": "markdown",
   "metadata": {},
   "source": [
    "#### Solución\n",
    "\n",
    "El número de átomos en una célda unitaria depende sólamente de 2 cosas: del tipo de celda y de la base. En el caso del hierro, cristaliza en el sistema cúbico simple y su base consiste en un átomo de hierro. Por lo tanto el númeor de átomos en su celda unitaria  es de **1**."
   ]
  },
  {
   "cell_type": "markdown",
   "metadata": {},
   "source": [
    "## Ejercicio 3\n",
    "\n",
    "#### La red cristalina del aluminio es fcc, su densidad es de ${2.7_{x10}}^3 \\frac{kg}{m^3}$ y su peso atómico es de 27. Calcular el número de átomos de aluminio por metro${}^3$"
   ]
  },
  {
   "cell_type": "markdown",
   "metadata": {},
   "source": [
    "#### Solución\n",
    "\n",
    "Para calcular el número de átomos por $m^3$, primero tenemos que calcular en número de átomos por celda unitaria ( $\\large{C}$), después necesitamos calcular el número de celdas por $m^3$ ($\\large{n_c}$)\n",
    "\n",
    "Entonces el número de átomos es:\n",
    "\n",
    "\\begin{align}\n",
    "\\large{N = C * n_c}\n",
    "\\end{align}\n",
    "\n",
    "\n",
    "Empecemos primero con $\\large{C}$:\n",
    "- Al ser una red fcc, tiene $\\frac{1}{8}$ de átomo en cada arista, y $\\frac{1}{2}$ átomo en cada cara\n",
    "\n",
    "\\begin{align}\n",
    "C&= \\left(8*\\frac{1}{8}\\right)_{vertices} + \\left(6*\\frac{1}{2}\\right)_{caras} \\newline\n",
    "C &= 4\n",
    "\\end{align}\n",
    "\n",
    "Ahora obtengamos a $\\large{n_c}$:\n",
    "- sabemos que:\n",
    "\n",
    "\\begin{align}\n",
    "\\delta = {2.7_{x10}}^3 &= \\frac{m}{V_c} \\newline\n",
    "V_c &= \\frac{m}{\\delta}\n",
    "\\end{align}\n",
    "\n",
    "Donde $m = C*P_{Al}*uma$\n",
    "\n",
    "Entonces\n",
    "\n",
    "\\begin{align}\n",
    "\\boxed{N= \\frac{\\delta}{P_{Al}(1uma)}}\n",
    "\\end{align}\n",
    "\n"
   ]
  },
  {
   "cell_type": "code",
   "execution_count": 25,
   "metadata": {},
   "outputs": [
    {
     "name": "stdout",
     "output_type": "stream",
     "text": [
      "El número de átomos es de: 6.02e+28 /m³\n"
     ]
    }
   ],
   "source": [
    "#Calculo del numero de átomos\n",
    "d=2.7e3\n",
    "P=27\n",
    "uma=1.66e-27\n",
    "\n",
    "N= d/(P*uma)\n",
    "print(\"El número de átomos es de: \"+\"{:.2e}\".format(N)+\" /m³\")"
   ]
  },
  {
   "cell_type": "markdown",
   "metadata": {},
   "source": [
    "## Ejercicio 4\n",
    "\n",
    "**Demostrar que al calcular el coeficiente de dilatación térmica por rayos X, los resultados mas exactos se obtienen al medir las líneas con grandes ángulos de Bragg.**"
   ]
  },
  {
   "cell_type": "markdown",
   "metadata": {},
   "source": [
    "#### Solución\n",
    "\n",
    "Utilizando la ley de Bragg:\n",
    "\n",
    "\\begin{align}\n",
    "2d sen(\\theta) = m\\lambda\n",
    "\\end{align}\n",
    "\n",
    "Donde $\\lambda$ es constante\n",
    "\n",
    "Podemos obtener a $\\Delta\\theta$ obteniendo la diferencia de la ley de Bragg\n",
    "\n",
    "\\begin{align}\n",
    "2(d cos(\\theta)\\Delta\\theta + sen(\\theta)\\Delta d &= 0 \\newline\n",
    "\\Delta\\theta &= tan(\\theta)\\frac{\\Delta d}{d}\n",
    "\\end{align}\n",
    "\n",
    "Si queremos encontrar el valor de $\\Delta\\theta$ sea máximo, necesitamos que $tan(\\theta)$ sea el valor máximo posible, esto sucede si $\\theta = \\frac{\\pi}{2}$, es decir, perpendicular al plano interatómico"
   ]
  },
  {
   "cell_type": "markdown",
   "metadata": {},
   "source": [
    "## Ejercicio 6\n",
    "\n",
    "**Determinar el coeficiente de expansión térmica de la plata si el patrón de difracción presenta un cambio en la línea de $80^o 9'$ a $76^o54'$ si $T_i = 18C^{o}$ y $T_f = 630C^{o}$ .**"
   ]
  },
  {
   "cell_type": "markdown",
   "metadata": {},
   "source": [
    "#### Solución\n",
    "\n",
    "Utilizando la formula para el coeficiente de dilatación lineal, tenemos que:\n",
    "\n",
    "\\begin{align}\n",
    "\\alpha_{L}=\\frac{d \\ln d}{d T} \\approx \\frac{1}{d} \\frac{\\Delta d}{\\Delta T}\n",
    "\\end{align}\n",
    "\n",
    "\n",
    "Despejando a $\\frac{d}{\\Delta d}$ del ejercicio 3, obtenemos que:\n",
    "\n",
    "\\begin{align}\n",
    "\\boxed{\\alpha_{L}=\\frac{\\Delta \\theta}{\\Delta T \\; tan(\\theta_i)}}\n",
    "\\end{align}\n"
   ]
  },
  {
   "cell_type": "code",
   "execution_count": 19,
   "metadata": {},
   "outputs": [
    {
     "name": "stdout",
     "output_type": "stream",
     "text": [
      "\n",
      "\n",
      " El coeficiente de expansión térmica es de:  0.039407714112103795 \n",
      "\n",
      "\n"
     ]
    }
   ],
   "source": [
    "# Calculo del coeficiente \n",
    "\n",
    "ti=18\n",
    "tf=630\n",
    "thi=dms2dd(80,9)\n",
    "thf=math.radians(dms2dd(76,54))\n",
    "\n",
    "al=abs((tf-ti)/((tf-ti)*math.tan(thi)))\n",
    "print(\"\\n\\n El coeficiente de expansión térmica es de: \",al,\"\\n\\n\")"
   ]
  },
  {
   "cell_type": "markdown",
   "metadata": {},
   "source": [
    "## Ejercicio 7\n",
    "\n",
    "- **Hallar el factor de estructura de la red fcc**\n",
    "- **Diga que plano representa la difracción dada por:**\n",
    " \n",
    " $\\overline{G} = \\overline{\\Delta K }$ = B+C, con B,C vectores de la red recíproca"
   ]
  },
  {
   "cell_type": "markdown",
   "metadata": {},
   "source": [
    "#### Solución\n",
    "\n",
    "Los puntos de la red fcc son:\n",
    "- (0, 0, 0)\n",
    "- (0, 1/2, 1/2)\n",
    "- (1/2, 0, 1/2)\n",
    "- (1/2, 1/2, 0)\n",
    "\n",
    "Utilizando la ecuación para el factor de estructura para cada uno de los puntos\n",
    "\n",
    "\\begin{align}\n",
    "F_{hkl}= \\sum_i f_i e^{-2\\pi i \\left( u_ih+v_ik+w_il \\right)}\n",
    "\\end{align}\n",
    "\n",
    "Obtenemos\n",
    "\n",
    "\\begin{align}\n",
    "F_{hkl}= \\sum_i {f \\left( 1+exp \\left(-\\pi i (h+k) \\right) + exp \\left(-\\pi i (h+l) \\right) + exp \\left(-\\pi i (k+l) \\right) \\right)}\n",
    "\\end{align}\n",
    "\n",
    "entonces:\n",
    "\n",
    "\\begin{align}\n",
    "    F_{hkl}=\n",
    "    \\begin{cases}\n",
    "      0, & \\text{si h,k,l tienen paridad distinta} \\\\\n",
    "      4f , & \\text{si h,k,l tienen misma paridad}\n",
    "    \\end{cases}\n",
    "\\end{align}"
   ]
  },
  {
   "cell_type": "code",
   "execution_count": null,
   "metadata": {},
   "outputs": [],
   "source": []
  }
 ],
 "metadata": {
  "kernelspec": {
   "display_name": "Python 3",
   "language": "python",
   "name": "python3"
  },
  "language_info": {
   "codemirror_mode": {
    "name": "ipython",
    "version": 3
   },
   "file_extension": ".py",
   "mimetype": "text/x-python",
   "name": "python",
   "nbconvert_exporter": "python",
   "pygments_lexer": "ipython3",
   "version": "3.7.4"
  }
 },
 "nbformat": 4,
 "nbformat_minor": 2
}
