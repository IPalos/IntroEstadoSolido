{
 "cells": [
  {
   "cell_type": "markdown",
   "metadata": {},
   "source": [
    "# La estructura de CdTe es la de 2 celdas FCC desplazada una respecto a la otra 1/4 de la diagonal del cubo. En el patrón de difracción de rayos X paarecen las líneas (220) y (111). Usando el factor de estructura justifique la aparición de las líneas sabiendo que las cooredenadas son :\n",
    "- Cd: (0,0,0), (0,1/2,1/2),(1/2,0,1/2),(1/2,1/2,0)\n",
    "- Te: (1,1,1)/4, (1,3,3)/4, (3,1,1)/4, (3,3,1)/4\n",
    "Con diferentes factores de dispersión"
   ]
  },
  {
   "cell_type": "markdown",
   "metadata": {},
   "source": [
    "Solución:\n",
    "\n",
    "El factor de estructura de la red está dada por:\n",
    "\\begin{align}\n",
    "\\large{\\boxed{F_{hkl}= \\sum_j f_i e^{-2\\pi i \\left( u_jh+v_jk+w_jl \\right)}}}\n",
    "\\end{align}\n",
    "entonces\n",
    "\n",
    "\\begin{align}\n",
    "F_{hkl}= f_{Cd} \\left(e^0+ e^{-\\pi i \\left(k+l\\right)}+ e^{-\\pi i \\left(h+l\\right)}+e^{-\\pi i \\left(h+k\\right)} \\right) + \\\\ f_{Te} \\left(e^{-\\pi i /2 \\left(h+ k+l\\right)}+ e^{-\\pi i /2 \\left(h+3k+l\\right)}+ e^{-\\pi i /2 \\left(3k+h+l\\right)}+e^{-\\pi i/2 \\left(h+k+3l\\right)} \\right)\n",
    "\\end{align}\n",
    "\n",
    "Si evaluamos en (220):\n",
    "\\begin{align}\n",
    "F_{220} &= f_{Cd}\\left(1+ 2 + 1 \\right) + f{Te}\\left(1+1+1+1 \\right)\n",
    "{}&= 4 f{cD}+ 4 f_{Te} \\neq 0\n",
    "\\end{align}\n",
    "\n",
    "Si evaluamos en (111):\n",
    "\\begin{align}\n",
    "F_{111} &= 4 f{Cd} - 4f{Te} \\neq 0\n",
    "\\end{align}"
   ]
  }
 ],
 "metadata": {
  "kernelspec": {
   "display_name": "Python 3",
   "language": "python",
   "name": "python3"
  },
  "language_info": {
   "codemirror_mode": {
    "name": "ipython",
    "version": 3
   },
   "file_extension": ".py",
   "mimetype": "text/x-python",
   "name": "python",
   "nbconvert_exporter": "python",
   "pygments_lexer": "ipython3",
   "version": "3.7.4"
  }
 },
 "nbformat": 4,
 "nbformat_minor": 2
}
