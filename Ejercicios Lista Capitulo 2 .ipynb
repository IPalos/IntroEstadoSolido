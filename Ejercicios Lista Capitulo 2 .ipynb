{
 "cells": [
  {
   "cell_type": "markdown",
   "metadata": {},
   "source": [
    "## 1. Demostrar que si dos redes son recíprocas, una en relación a la otra, entonces el producto del volumen de sus redes elementales es igual a $(2\\pi)^3$ "
   ]
  },
  {
   "cell_type": "markdown",
   "metadata": {},
   "source": [
    "## 2. Halle el factor de estructura de las redes $bcc$ y $fcc$"
   ]
  },
  {
   "cell_type": "markdown",
   "metadata": {},
   "source": [
    "## 3. Se Utilizan Rayos X  con $\\lambda = 1.537Å$ en un cristal de NaCl. La diffración ocurre en los planos (200) para un ángulo de $15^015'$. Determinar la constante de la red de NaCl"
   ]
  },
  {
   "cell_type": "markdown",
   "metadata": {},
   "source": [
    "## 4. \n",
    "1. Demostrar que en un experimento de Rayos X las difracciones de los planos (100), (010) u (001) para el caso de una red cúbica simple.\n",
    "2. ¿Cuántas líneas aparecerán en le caso de una tetragonal simple correspondientes a estos mismos planos?"
   ]
  },
  {
   "cell_type": "markdown",
   "metadata": {},
   "source": [
    "## 5.\n",
    "1. Demostrar que al calcular el coeficiente de expansión térmica $\\frac{\\Delta d}{d}$ por Rayos X, los resultados más exactos se obtienen al medir en las líneas con grandes ángulos de Bragg.\n",
    "2. Determinar el coeficiente de expansión térmica de la plata si en el patrón de difracción de este metal, las líneas surgen en ángulos de $80^09'$ y $76^054'$ a temperatura de 18 y 630 C respectivamente"
   ]
  },
  {
   "cell_type": "markdown",
   "metadata": {},
   "source": [
    "## 6. \n",
    "1. Determine el factor de estrura del diamante\n",
    "2. Dé los índices de Miller de los planos que no difractan y de aquellos para los cuales el factor de estructura es máximo"
   ]
  },
  {
   "cell_type": "markdown",
   "metadata": {},
   "source": [
    "## 7.\n",
    "1. Determinar el órden y los índices de Miller de los planos correspondientes a las líneas que aparecerán en el espectro de Rayos X de una red cúbica simple con $a= 2.860 Å$\n",
    "2. Determinar los parámetros anteriores en ael caso de la $fcc$"
   ]
  },
  {
   "cell_type": "markdown",
   "metadata": {},
   "source": [
    "## 8.\n",
    "1. Determinar el factor de estructura para el NaCl\n",
    "2. Enumerar los planos que difractarán en un cristal de KBr que poseé la estructura de NaCl, siendo los números atómicos del K y del Br  de 19 y 35 respectivamente.\n",
    "3. ¿Que ocurrirá en el caso del KCl con números atómicos del Cl y K muy similares ( 17 y 19 ). ¿Se tiene en este caso igual resultado que en una red cúbica simple?"
   ]
  },
  {
   "cell_type": "markdown",
   "metadata": {},
   "source": [
    "## 9. Diga qué plano representa la difracción dada por $\\mathit{\\vec{G} = \\Delta\\vec{K} = \\vec{B}+ \\vec{C}}$, siendo $\\mathit{\\vec{B }}$ y $\\mathit{\\vec{C}}$ dos vectores de la red recíproca, y si es posible esta difración en el caso de una red $fcc$"
   ]
  },
  {
   "cell_type": "markdown",
   "metadata": {},
   "source": [
    "## 10. \n",
    "1. En un experimento de Rayos X en una estructura cristalina cúbica simple, se cumple que el vector de onda incidente $K_0 = A$ (Vector fundamental de la red recíproca). Determinar todos los vectores de onda K de las ondas difractadas.\n",
    "2. Determinar los planos donde las ondas experimentan reflexión de Bragg (Sugerencia, utilice la esfera de Ewald)"
   ]
  },
  {
   "cell_type": "code",
   "execution_count": null,
   "metadata": {},
   "outputs": [],
   "source": []
  }
 ],
 "metadata": {
  "kernelspec": {
   "display_name": "Python 3",
   "language": "python",
   "name": "python3"
  },
  "language_info": {
   "codemirror_mode": {
    "name": "ipython",
    "version": 3
   },
   "file_extension": ".py",
   "mimetype": "text/x-python",
   "name": "python",
   "nbconvert_exporter": "python",
   "pygments_lexer": "ipython3",
   "version": "3.7.4"
  }
 },
 "nbformat": 4,
 "nbformat_minor": 2
}
