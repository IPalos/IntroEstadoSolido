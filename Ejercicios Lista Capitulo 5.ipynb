{
 "cells": [
  {
   "cell_type": "markdown",
   "metadata": {},
   "source": [
    "## Índice\n",
    "1. <a href=\"#Problema1\">Wigner-Seitz\n",
    "2. <a href=\"#Problema2\">NaCl\n",
    "3. <a href=\"#Problema3\">Diamante\n",
    "4. <a href=\"#Problema4\">Relación c/a\n",
    "5. <a href=\"#Problema5\">Número de átomos en la celda unitaria del hierro\n",
    "6. <a href=\"#Problema6\">Número de átomos de aluminio por metro cúbico\n",
    "7. <a href=\"#Problema7\">Número de átomos por cm2 de la celda fcc en los planos (100), (111) y (110)\n",
    "8. <a href=\"#Problema8\">Rayos X\n",
    "9. <a href=\"#Problema9\">Compacidad\n",
    "10. <a href=\"#Problema10\">Lámina delgada]\n",
    "11. <a href=\"#Problema11\">Oscilaciones de la red]\n",
    "12. <a href=\"#Problema12\">Factor de estructura]\n",
    "13. <a href=\"#Problema12\">FCC Interpenetradas]"
   ]
  },
  {
   "cell_type": "markdown",
   "metadata": {},
   "source": [
    "# <span id=\"Problema7\"> Para una celda cúbica simple en la cual la concentración de átomos es de $10^{23}$ átomos/$cm^3$, calcule: \n",
    "1. El vector de onda máximo de acuerdo al modelo de Debye $k_D$\n",
    "2. El valor de k para $k=\\frac{p}{a}$ y compárelo con $k_D$. (Sugerencia tener en cuenta el volumen y el número de ñatomos de la red cúbica simple para el cálculo de la constante $a$\n",
    "3. El valor máximo de k, $k_{max}$ para la primera zona de Brillouin\n",
    "4. Dibuje un corte transversal en el plano $k_x$, $k_y$ y $k_z=0$ de la esfera de integración de Debye y de la primera zona de Brillouin"
   ]
  }
 ],
 "metadata": {
  "kernelspec": {
   "display_name": "Python 3",
   "language": "python",
   "name": "python3"
  },
  "language_info": {
   "codemirror_mode": {
    "name": "ipython",
    "version": 3
   },
   "file_extension": ".py",
   "mimetype": "text/x-python",
   "name": "python",
   "nbconvert_exporter": "python",
   "pygments_lexer": "ipython3",
   "version": "3.7.4"
  }
 },
 "nbformat": 4,
 "nbformat_minor": 2
}
