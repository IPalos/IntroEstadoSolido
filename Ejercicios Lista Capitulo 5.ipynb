{
 "cells": [
  {
   "cell_type": "markdown",
   "metadata": {},
   "source": [
    "## Índice\n",
    "7. <a href=\"#Problema7\">Problema 7\n",
    "8. <a href=\"#Problema8\">Problema 8"
   ]
  },
  {
   "cell_type": "markdown",
   "metadata": {},
   "source": [
    "# <span id=\"Problema7\"> Para una celda cúbica simple en la cual la concentración de átomos es de $10^{23}$ átomos/$cm^3$, calcule: \n",
    "1. El vector de onda máximo de acuerdo al modelo de Debye $k_D$\n",
    "2. El valor de k para $k=\\frac{p}{a}$ y compárelo con $k_D$. (Sugerencia tener en cuenta el volumen y el número de átomos de la red cúbica simple para el cálculo de la constante $a$\n",
    "3. El valor máximo de k, $k_{max}$ para la primera zona de Brillouin\n",
    "4. Dibuje un corte transversal en el plano $k_x$, $k_y$ y $k_z=0$ de la esfera de integración de Debye y de la primera zona de Brillouin"
   ]
  },
  {
   "cell_type": "markdown",
   "metadata": {},
   "source": [
    "### Solución\n",
    "1. El vector de onda máximo está dado por \n",
    "$K_D= \\left(\\frac{6\\pi^2N}{V}\\right)^{1/3}$ en este caso $\\frac{N}{V} = 10^{23}/1cm^3 = 10^{29}/m^3$\n",
    "por lo tanto\n",
    "\\begin{align}\n",
    "\\boxed{K_D= 3.9_{x10^9}}\n",
    "\\end{align}\n",
    "2. La constante $a$ se obtiene utilizando mediante la relación $\\sqrt[3]{\\frac{N}{V}} \\approx 1Å$,  entonces $\\frac{k_D}{k} = \\sqrt[3]{6\\pi^2}\\approx 3.89$\n",
    "3. se encuentra en $k_{max}=\\frac{\\pi}{a}$"
   ]
  },
  {
   "cell_type": "markdown",
   "metadata": {},
   "source": [
    "# <span id=\"Problema8\">Demuestre que, si se ejercen fuerzas de interacción tomando hasta el segundo término de la serie que conduce a la ley de Hooke, entonces no hay efectos de dilatación al aumentar T.\n",
    "Sugerencia: Tenga en cuenta que el valor medio de una magnitud X es\n",
    "\n",
    "$\\langle X\\rangle=\\frac{\\int_{-\\infty}^{\\infty} X e^{\\frac{U}{K T}} d x}{\\int_{-\\infty}^{\\infty} e^{\\frac{U}{K T}} d x}$"
   ]
  },
  {
   "cell_type": "code",
   "execution_count": null,
   "metadata": {},
   "outputs": [],
   "source": []
  }
 ],
 "metadata": {
  "kernelspec": {
   "display_name": "Python 3",
   "language": "python",
   "name": "python3"
  },
  "language_info": {
   "codemirror_mode": {
    "name": "ipython",
    "version": 3
   },
   "file_extension": ".py",
   "mimetype": "text/x-python",
   "name": "python",
   "nbconvert_exporter": "python",
   "pygments_lexer": "ipython3",
   "version": "3.7.4"
  }
 },
 "nbformat": 4,
 "nbformat_minor": 2
}
