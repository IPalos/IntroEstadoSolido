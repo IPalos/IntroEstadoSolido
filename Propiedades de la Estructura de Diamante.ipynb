{
 "cells": [
  {
   "cell_type": "markdown",
   "metadata": {},
   "source": [
    "# Propiedades de la estructura de Diamante"
   ]
  },
  {
   "cell_type": "markdown",
   "metadata": {},
   "source": [
    "#### Código para preparar el ambiente"
   ]
  },
  {
   "cell_type": "code",
   "execution_count": 8,
   "metadata": {},
   "outputs": [],
   "source": [
    "%matplotlib inline\n",
    "\n",
    "import matplotlib.pyplot as plt\n",
    "from mpl_toolkits.mplot3d import Axes3D"
   ]
  },
  {
   "cell_type": "code",
   "execution_count": 19,
   "metadata": {},
   "outputs": [
    {
     "data": {
      "application/vnd.jupyter.widget-view+json": {
       "model_id": "0ed8192f688e475f87ccdbc6d8e5c74b",
       "version_major": 2,
       "version_minor": 0
      },
      "text/plain": [
       "Canvas(toolbar=Toolbar(toolitems=[('Home', 'Reset original view', 'home', 'home'), ('Back', 'Back to previous …"
      ]
     },
     "metadata": {},
     "output_type": "display_data"
    },
    {
     "data": {
      "text/plain": [
       "<mpl_toolkits.mplot3d.art3d.Path3DCollection at 0x12929bc10>"
      ]
     },
     "execution_count": 19,
     "metadata": {},
     "output_type": "execute_result"
    }
   ],
   "source": [
    "puntos=[\n",
    "    #Vertices\n",
    "    (0,0,0),(0,0,1),(0,1,0),(0,1,1),(1,0,0),(1,0,1),(1,1,0),(1,1,1),\n",
    "    #Centrado en las caras\n",
    "    (.5,.5,0),(.5,.5,1),(.5,0,.5),(.5,1,.5),(0,.5,.5),(1,.5,.5),\n",
    "]\n",
    "puntosInternos=[\n",
    "    (0.25,0.25,0.25),(0.75,0.75,0.25),(0.75,0.25,0.75),(0.25,0.75,0.75)\n",
    "]\n",
    "\n",
    "puntosX=[]\n",
    "puntosY=[]\n",
    "puntosZ=[]\n",
    "for i in puntos:\n",
    "    puntosX.append(i[0])\n",
    "    puntosY.append(i[1])\n",
    "    puntosZ.append(i[2])\n",
    "\n",
    "puntosIX=[]\n",
    "puntosIY=[]\n",
    "puntosIZ=[]\n",
    "for i in puntosInternos:\n",
    "    puntosIX.append(i[0])\n",
    "    puntosIY.append(i[1])\n",
    "    puntosIZ.append(i[2])\n",
    "\n",
    "\n",
    "fig = plt.figure()\n",
    "ax = fig.add_subplot(111, projection='3d')\n",
    "ax.scatter(puntosX,puntosY,puntosZ,color=\"red\",s=500)\n",
    "ax.scatter(puntosIX,puntosIY,puntosIZ,color=\"blue\",s=250)"
   ]
  },
  {
   "cell_type": "code",
   "execution_count": null,
   "metadata": {},
   "outputs": [],
   "source": []
  }
 ],
 "metadata": {
  "kernelspec": {
   "display_name": "Python 3",
   "language": "python",
   "name": "python3"
  },
  "language_info": {
   "codemirror_mode": {
    "name": "ipython",
    "version": 3
   },
   "file_extension": ".py",
   "mimetype": "text/x-python",
   "name": "python",
   "nbconvert_exporter": "python",
   "pygments_lexer": "ipython3",
   "version": "3.7.4"
  }
 },
 "nbformat": 4,
 "nbformat_minor": 2
}
