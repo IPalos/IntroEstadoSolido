{
 "cells": [
  {
   "cell_type": "markdown",
   "metadata": {},
   "source": [
    "# Propiedades de la estructura de Diamante"
   ]
  },
  {
   "cell_type": "markdown",
   "metadata": {},
   "source": [
    "#### Código para preparar el ambiente"
   ]
  },
  {
   "cell_type": "code",
   "execution_count": 1,
   "metadata": {},
   "outputs": [],
   "source": [
    "%matplotlib widget\n",
    "\n",
    "import matplotlib.pyplot as plt\n",
    "from mpl_toolkits.mplot3d import Axes3D"
   ]
  },
  {
   "cell_type": "markdown",
   "metadata": {},
   "source": [
    "### Crea los puntos en la estructura de diamante, y los grafica"
   ]
  },
  {
   "cell_type": "code",
   "execution_count": 2,
   "metadata": {},
   "outputs": [
    {
     "data": {
      "application/vnd.jupyter.widget-view+json": {
       "model_id": "4ea35c18528a4cad99a6565241bc77b4",
       "version_major": 2,
       "version_minor": 0
      },
      "text/plain": [
       "Canvas(toolbar=Toolbar(toolitems=[('Home', 'Reset original view', 'home', 'home'), ('Back', 'Back to previous …"
      ]
     },
     "metadata": {},
     "output_type": "display_data"
    },
    {
     "data": {
      "text/plain": [
       "<mpl_toolkits.mplot3d.art3d.Path3DCollection at 0x11b719510>"
      ]
     },
     "execution_count": 2,
     "metadata": {},
     "output_type": "execute_result"
    }
   ],
   "source": [
    "puntos=[\n",
    "    #Vertices\n",
    "    (0,0,0),(0,0,1),(0,1,0),(0,1,1),(1,0,0),(1,0,1),(1,1,0),(1,1,1),\n",
    "    #Centrado en las caras\n",
    "    (.5,.5,0),(.5,.5,1),(.5,0,.5),(.5,1,.5),(0,.5,.5),(1,.5,.5),\n",
    "]\n",
    "puntosInternos=[\n",
    "    (0.25,0.25,0.25),(0.75,0.75,0.25),(0.75,0.25,0.75),(0.25,0.75,0.75)\n",
    "]\n",
    "\n",
    "puntosX=[]\n",
    "puntosY=[]\n",
    "puntosZ=[]\n",
    "for i in puntos:\n",
    "    puntosX.append(i[0])\n",
    "    puntosY.append(i[1])\n",
    "    puntosZ.append(i[2])\n",
    "\n",
    "puntosIX=[]\n",
    "puntosIY=[]\n",
    "puntosIZ=[]\n",
    "for i in puntosInternos:\n",
    "    puntosIX.append(i[0])\n",
    "    puntosIY.append(i[1])\n",
    "    puntosIZ.append(i[2])\n",
    "\n",
    "\n",
    "fig = plt.figure()\n",
    "ax = fig.add_subplot(111, projection='3d')\n",
    "ax.scatter(puntosX,puntosY,puntosZ,color=\"red\",s=500)\n",
    "ax.scatter(puntosIX,puntosIY,puntosIZ,color=\"blue\",s=250)"
   ]
  },
  {
   "cell_type": "markdown",
   "metadata": {},
   "source": [
    "### Cálculo de la relación entre el radio *r* de cada átomo y la arista *a* de la celda\n",
    "\n",
    "Considerando que la dirección de mayor compacidad se encuentra sobre la diagonal, primero debemos encontrar la relación entre la arista *a* y la diagonal. Esta se calcula obteniendo la norma euclideana entre el punto (0,0,0) y el (1,1,1), entonces\n",
    "\n",
    "\\begin{align}\n",
    "D= \\sqrt{1+1+1}a = \\sqrt{3}a\n",
    "\\end{align}\n",
    "\n",
    "Como la distancia entre el átomo encontrado en el (0,0,0) y el átomo adyacente mas cercano (0.25, 0.25, 0.25) es de $\\frac{1}{4}a$ , entonces el diámetro del átomo resulta ser de \n",
    "\n",
    "\\begin{align}\n",
    "d= \\frac{\\sqrt{3}}{4}a\n",
    "\\end{align}\n",
    "\n",
    "por lo tanto el radio es de \n",
    "\n",
    "\\begin{align}\n",
    "r= \\frac{\\sqrt{3}}{8}a\n",
    "\\end{align}\n",
    "\n",
    "Despejando $a$:\n",
    "\n",
    "\\begin{align}\n",
    "\\boxed{a= \\frac{8r}{\\sqrt{3}}}\n",
    "\\end{align}"
   ]
  },
  {
   "cell_type": "markdown",
   "metadata": {},
   "source": [
    "### Cálculo del coeficiente de empaquetamiento\n",
    "\n",
    "El coeficiente de empaquetamiento de una estructura cristalina está dada por:\n",
    "\n",
    "\\begin{align}\n",
    "f= \\frac{NV_a}{V_c}\n",
    "\\end{align}\n",
    "\n",
    "donde:\n",
    "\n",
    "N = número  de átomos en la celda\n",
    "\n",
    "$V_a$ = Volumen ocupado por los átomos\n",
    "\n",
    "$V_c$ = Volumen total de la celda\n",
    "\n",
    "En el caso de la estructura de diamante, N=8. 4 de ellos debido a la estructura FCC exterior (puntos de color rojo) y los otros 4 debido a los átomos internos (puntos de color azul). Por otro lado tenemos que $V_c = a^3$. Ahora sólo falta calcular $V_a$.\n",
    "\n",
    "Suponiendo que los átomos son esferas del mismo tamaño en contacto unas con otras, \n",
    "\\begin{align}\n",
    "V_a = \\frac{4}{3} \\pi r^3\n",
    "\\end{align}\n",
    "\n",
    "Sustituyendo $a$ de la sección anterior en $V_c$, tenemos que:\n",
    "\n",
    "\\begin{align}\n",
    "f= \\frac{8\\frac{4}{3} \\pi r^3}{{\\frac{8r}{\\sqrt{3}}}^3}\n",
    "\\end{align}\n",
    "\n",
    "\\begin{align}\n",
    "\\boxed{f= \\frac{\\sqrt{3}}{16}\\pi \\approx 0.34}\n",
    "\\end{align}"
   ]
  },
  {
   "cell_type": "code",
   "execution_count": null,
   "metadata": {},
   "outputs": [],
   "source": []
  }
 ],
 "metadata": {
  "kernelspec": {
   "display_name": "Python 3",
   "language": "python",
   "name": "python3"
  },
  "language_info": {
   "codemirror_mode": {
    "name": "ipython",
    "version": 3
   },
   "file_extension": ".py",
   "mimetype": "text/x-python",
   "name": "python",
   "nbconvert_exporter": "python",
   "pygments_lexer": "ipython3",
   "version": "3.7.4"
  }
 },
 "nbformat": 4,
 "nbformat_minor": 2
}
