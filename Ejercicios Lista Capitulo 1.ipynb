{
 "cells": [
  {
   "cell_type": "markdown",
   "metadata": {},
   "source": [
    "## 1. El peso atómico del Na es 23 y del Cl es de 35.44. Calcular la constante de red cristalina del cristal NaCl si $\\rho = 2.18_{x10}^3 \\frac{kg}{m^3}$, sabiendo que este compuesto cristaliza en la red *fcc*"
   ]
  },
  {
   "cell_type": "markdown",
   "metadata": {},
   "source": [
    "### Solución\n",
    "\n",
    "La constante de red $a$ es la distancia entre centro y centro de los átomos de la red, es decir que el volumen de una celda es\n",
    "\n",
    "\\begin{align}\n",
    "V = a^3 \\therefore a=\\sqrt[3]{V}\n",
    "\\end{align}\n",
    "\n",
    "Por otro lado, la densidad se define como\n",
    "\\begin{align}\n",
    "\\rho = \\frac{m}{V} \\\\\n",
    "\\text{entonces} \\\\\n",
    "a = \\sqrt[3]{\\frac{m}{\\rho}}\n",
    "\\end{align}\n",
    "\n",
    "donde\n",
    "\\begin{align}\n",
    "m = \\underbrace{4}_{\\text{atomos de una red fcc}} * \\underbrace{(P_{Na}+P{Cl})}_{\\text{peso de cada átomo}} * 1 uma\n",
    "\\end{align}"
   ]
  },
  {
   "cell_type": "code",
   "execution_count": 5,
   "metadata": {},
   "outputs": [
    {
     "name": "stdout",
     "output_type": "stream",
     "text": [
      "La constante de red es de 5.63e-10 m\n"
     ]
    }
   ],
   "source": [
    "# CALCULO NUMÉRICO DE LA CONSTANTE DE LA RED\n",
    "import scipy.constants as sc\n",
    "\n",
    "a=((4*sc.atomic_mass*(23+35.44))/2.18e3)**(1/3)\n",
    "print (\"La constante de red es de \"+'{:.3}'.format(a)+\" m\")"
   ]
  },
  {
   "cell_type": "markdown",
   "metadata": {},
   "source": [
    "\n",
    "## 2. La red crustalina del aluminio es *fcc*, $\\rho = 2.7_{x10}^3 \\frac{kg}{m^3}$ y su peso atómico es de 27. Calcule el numero de átomos de aluminio por $m^3$"
   ]
  },
  {
   "cell_type": "markdown",
   "metadata": {},
   "source": [
    "#### Solución\n",
    "\n",
    "Para calcular el número de átomos por $m^3$, primero tenemos que calcular en número de átomos por celda unitaria ( $\\large{C}$), después necesitamos calcular el número de celdas por $m^3$ ($\\large{n_c}$)\n",
    "\n",
    "Entonces el número de átomos es:\n",
    "\n",
    "\\begin{align}\n",
    "\\large{N = C * n_c}\n",
    "\\end{align}\n",
    "\n",
    "\n",
    "Empecemos primero con $\\large{C}$:\n",
    "- Al ser una red fcc, tiene $\\frac{1}{8}$ de átomo en cada arista, y $\\frac{1}{2}$ átomo en cada cara\n",
    "\n",
    "\\begin{align}\n",
    "C&= \\left(8*\\frac{1}{8}\\right)_{vertices} + \\left(6*\\frac{1}{2}\\right)_{caras} \\newline\n",
    "C &= 4\n",
    "\\end{align}\n",
    "\n",
    "Ahora obtengamos a $\\large{n_c}$:\n",
    "- sabemos que:\n",
    "\n",
    "\\begin{align}\n",
    "\\delta = {2.7_{x10}}^3 &= \\frac{m}{V_c} \\newline\n",
    "V_c &= \\frac{m}{\\delta}\n",
    "\\end{align}\n",
    "\n",
    "Donde $m = C*P_{Al}*uma$\n",
    "\n",
    "Entonces\n",
    "\n",
    "\\begin{align}\n",
    "\\boxed{N= \\frac{\\delta}{P_{Al}(1uma)}}\n",
    "\\end{align}\n",
    "\n"
   ]
  },
  {
   "cell_type": "code",
   "execution_count": 1,
   "metadata": {},
   "outputs": [
    {
     "name": "stdout",
     "output_type": "stream",
     "text": [
      "El número de átomos es de: 6.02e+28 /m³\n"
     ]
    }
   ],
   "source": [
    "#Calculo del numero de átomos\n",
    "d=2.7e3\n",
    "P=27\n",
    "uma=1.66e-27\n",
    "\n",
    "N= d/(P*uma)\n",
    "print(\"El número de átomos es de: \"+\"{:.2e}\".format(N)+\" /m³\")"
   ]
  },
  {
   "cell_type": "markdown",
   "metadata": {},
   "source": [
    "## 3. Considere los átomos como esferas rígidas iguales en contacto de radio r en las estructuras: Cúbica Simple, bcc, fcc, hexagonal compacta y diamante\n",
    "1. Hallar la relación entre el radio r y la arista a de las celdas\n",
    "2. Hallar la compacidad (f) definido como el número de átomos perteneciente a la celda multiplicado por el volumen de un átomo, dividio por el volumen de la celda."
   ]
  },
  {
   "cell_type": "markdown",
   "metadata": {},
   "source": [
    "### Solución\n",
    "\n",
    "#### Cubica Simple\n",
    "1. $r=\\frac{a}{2}$\n",
    "2. $f= \\frac{1* \\left(\\frac{\\pi a^3}{6}\\right)}{a^3} = \\frac{\\pi}{6} \\approx 0.5235$\n",
    "\n",
    "#### BCC\n",
    "1. $r=\\frac{a\\sqrt{3}}{4}$\n",
    "2. $f = \\frac{2 * \\left(\\frac{\\pi a^3}{12 \\sqrt{2}}\\right)}{a^3} = \\frac{\\pi}{12\\sqrt{2}} \\approx 0.6801$\n",
    "\n",
    "#### FCC\n",
    "1. $r=\\frac{a\\sqrt{2}}{4}$\n",
    "2. $f = \\frac{2 * \\left(\\frac{\\pi a^3}{12 \\sqrt{2}}\\right)}{a^3} = \\frac{2\\pi\\sqrt{8}}{24} \\approx 0.7404$"
   ]
  },
  {
   "cell_type": "code",
   "execution_count": 36,
   "metadata": {},
   "outputs": [
    {
     "name": "stdout",
     "output_type": "stream",
     "text": [
      "0.523598775598299 0.680174761587832 0.740480489693061\n"
     ]
    }
   ],
   "source": [
    "import sympy as sm\n",
    "a=sm.Symbol(\"a\")\n",
    "r_C= a /2\n",
    "r_bcc = (sm.sqrt(3) * a)/(4)\n",
    "r_fcc = (sm.sqrt(2) * a)/(4)\n",
    "\n",
    "V_C = (1* (4/3 * sm.pi * r_C**3) / a**3).evalf()\n",
    "V_bcc = (2* (4/3 * sm.pi * r_bcc**3) / a**3).evalf()\n",
    "V_fcc = (4* (4/3 * sm.pi * r_fcc**3) / a**3).evalf()\n",
    "print (V_C, V_bcc, V_fcc)"
   ]
  },
  {
   "cell_type": "markdown",
   "metadata": {},
   "source": [
    "## 4.\n",
    "1. Dibujar la celda primitiva de la red bcc\n",
    "2. Determinar los vectores fundamentales de la celda primitiva $a', b', c'$ en unidades del vector de la constante de la red *a* de la celda *bcc*\n",
    "3. Hallar la relación entre las aristas y ángulos \n",
    "4. Hallar su volumen\n",
    "5. Hallar el volumen de la respectiva celda de Wigner-Seitz\n",
    "\n",
    "(Sugerencia. Exprese los vectores de la red primitica como una combinación lineal de los vectores $a,b,c$ de la red *bcc* y use álgebra vectorial elemental)"
   ]
  },
  {
   "cell_type": "markdown",
   "metadata": {},
   "source": [
    "2. Para determinar los vectores fundamentales de la red primitiva, hay que encontrar los 3 átomos mas cercanos al átomo situado en el origen. En este caso serían los puntos\n",
    "\n",
    "    - (0,0,0)\n",
    "    - a'=(0.5,0.5,0.5)\n",
    "    - b'=(0.5,0.5,-0.5)\n",
    "    - c'=(0.5,-0.5,0.5)\n",
    "\n",
    "\n",
    "3. Calculando la magnitud de cada vector, podemos concluir que a' = b' = c', y por simetría también los ángulos son igules,  y los cuales se calcularán mas adelante "
   ]
  },
  {
   "cell_type": "code",
   "execution_count": 56,
   "metadata": {},
   "outputs": [
    {
     "name": "stdout",
     "output_type": "stream",
     "text": [
      "El volumen de la celda primitiva es de  0.5 a\n",
      "El ángulo entre vectores fundamentales es de 70.53º\n"
     ]
    }
   ],
   "source": [
    "import  numpy as np\n",
    "vertices = np.array([[.5,.5,.5],\n",
    "                   [.5,.5,-.5],\n",
    "                   [.5,-.5,.5]])\n",
    "\n",
    "volumen = abs(np.linalg.det(vertices))\n",
    "print (\"El volumen de la celda primitiva es de \",volumen,\"a\")\n",
    "\n",
    "angulos = math.acos(np.dot(vertices[0],vertices[1])/.75)\n",
    "print (\"El ángulo entre vectores fundamentales es de \"+\"{:.2f}\".format(math.degrees(angulos))+\"º\")"
   ]
  },
  {
   "cell_type": "markdown",
   "metadata": {},
   "source": [
    "## 5. La celda primitiva de la *bcc* cumple con que $\\alpha=\\beta=\\gamma$ y $a'=b'=c'$. Esta relación entre ángulos y lados corresponde a la red Trigonal de Bravais.¿Porqué entonces se incluye en las redes de Bravais la *bcc* y no se incluye dentro de las redes trigonales?"
   ]
  },
  {
   "cell_type": "markdown",
   "metadata": {},
   "source": [
    "## 6. Determinar el volumen de la celda elemental de los site sistemas de Bravais en función de los lados $a,b$ y $c$ y de los ángulos $\\alpha, \\beta$ y $\\gamma$\n",
    "\n",
    "(Sugerencia, Exprese los vectores **a,b** y **c** en función de los vectores unitarios **i, j** y **k** el volumen al cuadrado como $V^2 = V\\cdot V*$, donde $V = \\vec{a}\\cdot \\vec{b}\\times\\vec{c}$)"
   ]
  },
  {
   "cell_type": "markdown",
   "metadata": {},
   "source": [
    "## 7. Los índices de Miller (hkl) son muy útiles especiamente para los sistemas cúbicos. Demuestre que para estos sistemas la distancia entre planos adyacentes de índice (hkl) es:\n",
    "\\begin{equation}\n",
    " d_{hkl} = \\frac{a}{\\sqrt{h^2+k^2+l^2}}\n",
    "\\end{equation}"
   ]
  },
  {
   "cell_type": "markdown",
   "metadata": {},
   "source": [
    "## 8.\n",
    "1. Demostrar que para una estructura hexagonal compacta ideal $\\frac{c}{a}=\\sqrt{\\frac{8}{3}}\\approx 1.633$ \n",
    "2. Los elementos He, Mg, Ti y Zn cristalizan en la estructura hexagonal compacta con relaciones c/a = 1.633, 1.623, 1.586 y 1.861 respectivamente. ¿Cómo se explican las desviaciones respecto al caso ideal?"
   ]
  },
  {
   "cell_type": "markdown",
   "metadata": {},
   "source": [
    "Primero tenemos que crear un tetraedro utilizando los centros de los átomos, suponiendo que la distancia entre un centro y otro es de $a$. Ahora necesitamos encontrar la posición del centro del átomo de la segunda capa ( marcado en la imagen inferior en azul). Dicha posición es $\\frac{c}{2}$\n",
    "\n",
    "Para eso, necesitamos encontrar el centro de un triángulo equilátero.\n",
    "\n",
    "Sabemos por el teorema de Pitágoras, que la altura de un triángulo equilatero es de \n",
    "\n",
    "\\begin{align}\n",
    "h= \\sqrt{a^2-\\frac{a^2}{4}} = a\\frac{\\sqrt{3}}{2}\n",
    "\\end{align}\n",
    "\n",
    "y que la relación entre \n",
    "\n",
    "\\begin{align}\n",
    "\\frac{a}{r} = \\frac{\\frac{a\\sqrt{3}}{2}}{\\frac{a}{2}}\n",
    "\\end{align}\n",
    "\n",
    "\\begin{align}\n",
    "r=\\frac{a}{\\sqrt{3}}\n",
    "\\end{align}\n",
    "\n",
    "Donde r es la distancia de un vértice al centro del triángulo"
   ]
  },
  {
   "cell_type": "code",
   "execution_count": 59,
   "metadata": {},
   "outputs": [
    {
     "data": {
      "text/plain": [
       "<matplotlib.patches.Circle at 0x1290ff890>"
      ]
     },
     "execution_count": 59,
     "metadata": {},
     "output_type": "execute_result"
    },
    {
     "data": {
      "image/png": "[encoded data removed]",
      "text/plain": [
       "<Figure size 432x288 with 1 Axes>"
      ]
     },
     "metadata": {
      "needs_background": "light"
     },
     "output_type": "display_data"
    }
   ],
   "source": [
    "import matplotlib.pyplot as plt\n",
    "\n",
    "a=1\n",
    "acos=a*math.cos(math.radians(60))\n",
    "asin=a*math.sin(math.radians(60))\n",
    "puntos=([0,0,0],[-a,0,0],[a,0,0],[acos,asin,0],[-acos,asin,0],[acos,-asin,0],[-acos,-asin,0])\n",
    "puntosX=[]\n",
    "puntosY=[]\n",
    "puntosZ=[]\n",
    "for i in puntos:\n",
    "    puntosX.append(i[0])\n",
    "    puntosY.append(i[1])\n",
    "    puntosZ.append(i[2])\n",
    "\n",
    "fig = plt.figure()\n",
    "ax = fig.add_subplot()\n",
    "ax.axis(\"equal\")\n",
    "ax.axis([3,-3,3,-3])\n",
    "for i in range(len(puntosX)):\n",
    "    ax.add_artist(plt.Circle((puntosX[i],puntosY[i]),a/2,color=\"red\"))\n",
    "    ax.add_artist(plt.Circle((puntosX[i],puntosY[i]),a/20,color=\"black\"))\n",
    "    \n",
    "ax.add_artist(plt.Circle((0,-a/math.sqrt(3)),a/2,color=\"blue\"))\n",
    "ax.add_artist(plt.Circle((0,-a/math.sqrt(3)),a/20,color=\"white\"))"
   ]
  },
  {
   "cell_type": "markdown",
   "metadata": {},
   "source": [
    "Aplicando otra vez el teorema de Pitágoras, tenemos que\n",
    "\n",
    "\\begin{align}\n",
    "\\frac{c}{2}=\\sqrt{a^2 - \\frac{a^2}{3}}\n",
    "\\end{align}\n",
    "\n",
    "\\begin{align}\n",
    "c=a\\frac{2\\sqrt{2}}{\\sqrt{3}} = \\boxed{a\\sqrt{\\frac{8}{3}}}\n",
    "\\end{align}"
   ]
  },
  {
   "cell_type": "markdown",
   "metadata": {},
   "source": [
    "## 9. Para celdas *bcc* y *fcc*, compuestas de átomos de radio $r=1Å$, calcule el número de átomos por centímetro cuadrado que pertenecen a los planos (100), (110) y (111)"
   ]
  },
  {
   "cell_type": "markdown",
   "metadata": {},
   "source": [
    "#### Solución\n",
    "\n",
    "Para calcular el número de átomos por cm/"
   ]
  },
  {
   "cell_type": "markdown",
   "metadata": {},
   "source": [
    "## 10. Dado dos átomos *a* y *b* que forman una estructura cristalina del tipo NaCl, con radios $r_a$ y $r_b$ respectivamente, mostrar que los átomos dispuestos en diagonal de la cara del cubo estarán en contacto cuando $\\frac{r_a}{r_b} = 2.41$ "
   ]
  },
  {
   "cell_type": "markdown",
   "metadata": {},
   "source": [
    "## 11. Demostrar que ninguna red puede poseer simetría de rotación de órden distinto a 1,2,3,4 ó 6"
   ]
  },
  {
   "cell_type": "markdown",
   "metadata": {},
   "source": [
    "#### Solución\n",
    "Para que se cumpla la condición de periodicidad, tenemos que a' = na, donde n es un entero\n",
    "\n",
    "Por el dibujo, tenemos que $a' = a(1+2sen(\\phi))$\n",
    "\n",
    "Entonces para que a' sea múltiplo de a, $\\phi puede tomar los siguientes valores$\n",
    "\n",
    "| $\\phi$ | a' | Rotación |\n",
    "|---|---|---|\n",
    "|0 | a | 4|\n",
    "|$\\large{\\frac{-\\pi}{6}}$ | 0 | 3|\n",
    "|$\\large{\\frac{\\pi}{6}}$ | 2a | 6|\n",
    "|$\\large{\\frac{-\\pi}{2}}$ | a | 1|\n",
    "|$\\large{\\frac{\\pi}{2}}$ | a | 2|\n",
    "\n"
   ]
  },
  {
   "cell_type": "markdown",
   "metadata": {},
   "source": [
    "## 12. Hallar el volumen de la celda elemental de los sistemas triclínico, monoclínico, hexagonal, romboédrico, ortorrombico, tetragonal y cúbico"
   ]
  },
  {
   "cell_type": "code",
   "execution_count": null,
   "metadata": {},
   "outputs": [],
   "source": []
  }
 ],
 "metadata": {
  "kernelspec": {
   "display_name": "Python 3",
   "language": "python",
   "name": "python3"
  },
  "language_info": {
   "codemirror_mode": {
    "name": "ipython",
    "version": 3
   },
   "file_extension": ".py",
   "mimetype": "text/x-python",
   "name": "python",
   "nbconvert_exporter": "python",
   "pygments_lexer": "ipython3",
   "version": "3.7.4"
  }
 },
 "nbformat": 4,
 "nbformat_minor": 2
}
