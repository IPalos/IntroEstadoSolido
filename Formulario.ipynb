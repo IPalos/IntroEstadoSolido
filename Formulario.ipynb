{
 "cells": [
  {
   "cell_type": "markdown",
   "metadata": {},
   "source": [
    "# Primer Parcial"
   ]
  },
  {
   "cell_type": "markdown",
   "metadata": {},
   "source": [
    "### Factor de Compacidad\n",
    "\n",
    "\\begin{align}\n",
    "\\boxed{f = \\frac{N_{atomos}V_{atomo}}{V_{celda}}}\n",
    "\\end{align}"
   ]
  },
  {
   "cell_type": "markdown",
   "metadata": {},
   "source": [
    "### Volumen de una celda\n",
    "\n",
    "\\begin{align}\n",
    "\\boxed{ V= | \\vec{a} \\cdot \\vec{b} \\times \\vec{c}|} \n",
    "\\end{align}"
   ]
  },
  {
   "cell_type": "markdown",
   "metadata": {},
   "source": [
    "### Ley de Bragg\n",
    "\n",
    "\\begin{align}\n",
    "\\boxed{2d sen(\\theta) = m\\lambda}\n",
    "\\end{align}\n",
    "\n",
    "Donde: \n",
    "- d es la distancia entre planos atómicos\n",
    "- $\\theta$ el ángulo entre el rayo incidente y el plano atómico\n",
    "- m un entero\n",
    "- $\\lambda$ la longitud de onda del rayo incidente"
   ]
  },
  {
   "cell_type": "markdown",
   "metadata": {},
   "source": [
    "### Condición de periodicidad en una función\n",
    "\n",
    "\\begin{align}\n",
    "\\Phi(\\vec{r}) = \\Phi(\\vec{r}+\\vec{T}) \\newline\\newline\n",
    "\\text{Entonces: }\\newline\\newline\n",
    "\\Phi(\\vec{r}) = \\sum \\Phi_G e^{i\\vec{G}\\cdot\\vec{r}}\n",
    "\\end{align}"
   ]
  },
  {
   "cell_type": "markdown",
   "metadata": {},
   "source": [
    "### Factor de estructura de la red\n",
    "\n",
    "\\begin{align}\n",
    "\\large{\\boxed{F_{hkl}= \\sum_i f_i e^{-2\\pi i \\left( u_ih+v_ik+w_il \\right)}}}\n",
    "\\end{align}\n",
    "\n",
    "\n"
   ]
  },
  {
   "cell_type": "markdown",
   "metadata": {},
   "source": [
    "### Constante de Madelung \n",
    "\n",
    "\\begin{align}\n",
    "\\boxed{\\alpha \\equiv \\sum_j \\pm \\frac{R}{r_{ij}}}\n",
    "\\end{align}\n",
    "\n",
    "Donde R es la distancia al vecino mas próximo "
   ]
  },
  {
   "cell_type": "code",
   "execution_count": null,
   "metadata": {},
   "outputs": [],
   "source": []
  }
 ],
 "metadata": {
  "kernelspec": {
   "display_name": "Python 3",
   "language": "python",
   "name": "python3"
  },
  "language_info": {
   "codemirror_mode": {
    "name": "ipython",
    "version": 3
   },
   "file_extension": ".py",
   "mimetype": "text/x-python",
   "name": "python",
   "nbconvert_exporter": "python",
   "pygments_lexer": "ipython3",
   "version": "3.7.4"
  }
 },
 "nbformat": 4,
 "nbformat_minor": 4
}
