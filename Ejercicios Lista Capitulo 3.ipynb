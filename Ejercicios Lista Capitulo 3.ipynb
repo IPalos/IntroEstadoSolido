{
 "cells": [
  {
   "cell_type": "markdown",
   "metadata": {},
   "source": [
    "## Índice\n",
    "1. [Problema 1](#Problema1)\n",
    "2. [Problema 2](#Problema2)\n",
    "3. [Problema 3](#Problema3)\n",
    "4. [Problema 4](#Problema4)\n",
    "5. [Problema 5](#Problema5)\n",
    "6. [Problema 6](#Problema6)\n",
    "7. [Problema 7](#Problema7)\n",
    "8. [Problema 8](#Problema8)\n",
    "9. [Problema 9](#Problema9)\n",
    "10. [Problema 10](#Problema10)"
   ]
  },
  {
   "cell_type": "markdown",
   "metadata": {},
   "source": [
    "## <span id=\"Problema1\">1. Considere la energía de una partícula en el campo de otra partícula dependiente de la distancia entre los centros de las mismas de la siguiente forma:</span>\n",
    "\n",
    "\\begin{align}\n",
    "U(R)= -\\frac{A}{R}+ \\frac{B}{R^8}\n",
    "\\end{align}\n",
    "\n",
    "Donde A y B son constantes.\n",
    "\n",
    "Demostrar que :\n",
    "1. Estas dos partículas forman un compuesto estable cuando $R_0=\\left(\\frac{8B}{A}  \\right)^{1/7}$, siendo $R_0$ la distancia de equilibro entre dos partículas.\n",
    "2. En la configuación estable, la energía de atracción es 8 veces mayor que la energía de repulsión.\n",
    "3. La energía potencial total en la configuración estable es $U_{tot} = -\\frac{7A}{8R_0}$\n",
    "4. Si separamos las pertículas, entonces la molécula se rompe para una distancia R dada por: $R= \\left(\\frac{36B}{A} \\right)^{1/7}$\n"
   ]
  },
  {
   "cell_type": "code",
   "execution_count": 11,
   "metadata": {},
   "outputs": [
    {
     "data": {
      "text/plain": [
       "[<matplotlib.lines.Line2D at 0x12209ea50>]"
      ]
     },
     "execution_count": 11,
     "metadata": {},
     "output_type": "execute_result"
    },
    {
     "data": {
      "image/png": "[encoded data removed]",
      "text/plain": [
       "<Figure size 432x288 with 1 Axes>"
      ]
     },
     "metadata": {
      "needs_background": "light"
     },
     "output_type": "display_data"
    }
   ],
   "source": [
    "import matplotlib.pyplot as plt\n",
    "import numpy as np\n",
    "x=np.arange(1,10,.1)\n",
    "#Cambiar estos valores\n",
    "#===================== \n",
    "a=1\n",
    "b=1\n",
    "#===================== \n",
    "fx=-(a/x)+(b/x**8)\n",
    "plt.plot(x,fx)"
   ]
  },
  {
   "cell_type": "markdown",
   "metadata": {},
   "source": [
    "## Solución\n",
    "1. Para que la partícula se encuentre en estado de equilibrio, se tiene que encontrar a la distancia en donde el potencial sea un mínimo,  es decir:\n",
    "\n",
    "\\begin{align}\n",
    "\\frac{dU}{dR} &\\equiv 0 \\\\[10pt]\n",
    "\\frac{A}{R^2}-\\frac{8B}{R^9} &= 0 \\\\[10pt]\n",
    "\\frac{1}{R^2} \\left(A-\\frac{8B}{R^7} \\right) &=0 \\\\[10pt]\n",
    "\\left(R^7A-8B \\right) &=0\\\\[10pt]\n",
    "\\boxed{R = \\left(\\frac{8B}{A}\\right)^{1/7}}\n",
    "\\end{align}\n",
    "\n",
    "2. La energía de atracción es\n",
    "\n",
    "\\begin{align}\n",
    "U_a(R_0) = \\frac{-A}{R_0} = \\frac{A^{8/7}}{(8B)^{1/7}}\n",
    "\\end{align}\n",
    "\n",
    "y la de repulsión es \n",
    "\n",
    "\\begin{align}\n",
    "U_r(R_0) = \\frac{B}{R_0^8} = \\frac{A^{8/7}}{8^{8/7}B^{1/7}} = \\frac{U_a}{8}\n",
    "\\end{align}\n",
    "\n",
    "por lo tanto\n",
    "\n",
    "\\begin{align}\n",
    "\\boxed{U_a = 8 U_r}\n",
    "\\end{align}\n",
    "\n",
    "3. La energía potencial total en la configuración estable está dada por \n",
    "\\begin{align}\n",
    "U_{tot}(R_0) &= U_a(R_0) + U_r(R_0) \\\\\n",
    "U_{tot} &= 7 U_r(R_0) \\\\\n",
    "\\boxed{U_{tot} = \\frac{7A}{8R_0}}\n",
    "\\end{align}"
   ]
  },
  {
   "cell_type": "markdown",
   "metadata": {},
   "source": [
    "## 2. <span id=\"Problema2\">Demostrar que los exponentes de las potencias en la expresión para la energía potencial de los átomos que se encuentran a una distancia R, dada por \n",
    "\\begin{align}\n",
    "U(R)= -\\frac{A}{R^n}+ \\frac{B}{R^m}\n",
    "\\end{align}, \n",
    "\n",
    "## deben satisfacer la condición m>n </span>"
   ]
  },
  {
   "cell_type": "markdown",
   "metadata": {},
   "source": [
    "### Solución:\n",
    "Para que un sistema sea estable, tiene que tener un mínimo en el potencial U(R), es decir: $\\frac{dU}{dR} = 0$ y $\\frac{dU^2}{dR^2} > 0$\n",
    "\n",
    "| $\\frac{dU}{dR} =0$ || $\\frac{d^2U}{dr^2}>0$ |\n",
    "| --- || --- |\n",
    "| $\\frac{An}{r^{n+1}}-\\frac{Bm}{r^{m+1}}$ || $\\frac{An(n+1)}{r^{n+2}}-\\frac{Bm(m+1)}{r^{m+2}}$|\n",
    "|$r^{m-n} = \\frac{mB}{nA}$ || $\\frac{mB}{nA}(1-\\frac{n+1}{m+1}) >0$ |\n",
    "\n",
    "para que se cumpla la desigualdad, tenemos que $\\frac{n+1}{m+1}< 1$, por lo tanto $\\boxed{m>n} \\blacksquare$ "
   ]
  },
  {
   "cell_type": "markdown",
   "metadata": {},
   "source": [
    "## <span id=\"Problema3\">3. Suponga que en un cristal iónico el espacio entre los iones es ocupado por un líquido homogéneo con permitividad $\\varepsilon$. Suponga además que la componente de repulsión del potencial se mantiente constante. </span>\n",
    "1. ¿En cuánto varía la constante de la red si $\\varepsilon= 81$ y n=10?\n",
    "2. ¿En cuánto varía la energía de cohesion para estos valores?\n",
    "\n",
    "(Sugerencia: Suponga que la atracción electrostática puede ser escrita como $-\\frac{\\alpha q^2}{R}$ y la repulsión como $\\frac{\\lambda A_n}{R^n}$ siendo $\\lambda$ y $\\alpha$ parámetros definidos en el texto de este capítulo) "
   ]
  },
  {
   "cell_type": "markdown",
   "metadata": {},
   "source": [
    "## Solución\n",
    "1. La constante de la red se encuentra cuando el ion está en posición de equilibrio, es decir cuando $\\frac{dU}{dR}=0$, donde $U_{vacío}=\\frac{-\\alpha q^2}{R}+\\frac{\\lambda A_n}{R^n}$ y $U_{liquido}=\\frac{-\\alpha q^2}{\\varepsilon R}+\\frac{\\lambda A_n}{R^n}$\n",
    "\n",
    "Evaluando la derivada para $U_{vacío}$y $U_{liquido}$, tenemos que\n",
    "\\begin{align}\n",
    "R_{vacio}&=\\left(\\frac{\\lambda n A_n}{\\alpha q^2}\\right)^{\\frac{1}{n-1}} \\\\\n",
    "R_{liquido} &=\\left(\\frac{\\lambda n A_n \\varepsilon}{\\alpha q^2}\\right)^{\\frac{1}{n-1}}\n",
    "\\end{align}\n",
    "\n",
    "entonces la variación de la constante de la red es de $\\varepsilon^{\\frac{1}{n-1}}R_{vacio} = 81^{\\frac{1}{9}} \\approx \\boxed{1.63R_{vacío}} $\n",
    "\n",
    "2. Utilizando la nueva posición de equilibrio, calculemos ahora $U_{liquido}$\n",
    "\n",
    "\\begin{align}\n",
    "U_{liquido} &= \\frac{-\\alpha q^2}{\\varepsilon R_{liquido}}+\\frac{\\lambda A_n}{R_{liquido}^n} \\\\\n",
    "{} &= \\frac{-\\alpha q^2}{\\varepsilon \\varepsilon{\\frac{1}{n-a}} R_{vacio}}+\\frac{\\lambda A_n}{\\varepsilon{\\frac{1}{n-a}}R_{vacio}^n} \\\\ \n",
    "&= \\frac{1}{\\varepsilon^{\\frac{n}{n-1}}} U_{vacio} \\\\\n",
    "\\boxed{U_{liquido} = \\frac{U_{vacio}}{132}}\n",
    "\\end{align}"
   ]
  },
  {
   "cell_type": "markdown",
   "metadata": {},
   "source": [
    "## 4. <span id=\"Problema4\"></span>\n",
    "1. Determinar los parámetros de la energía de enlace en el KCl dada por la expresión \n",
    "$U(R)= N \\left[Z\\lambda exp^{-\\frac{R}{A_ n}-\\frac{\\alpha q^2}{R}} \\right]$. Donde Z es el número de vecinos más próximos, N es el número de moléculas y R la distancia entre vecinos más próximos\n",
    "2. Calcular la energía de cohesión por molécula y comparar con el valor experimental de -7.40 eV extrapolado a 0K\n",
    "3. Hallar la fuerza que tiende a llevar los átomos a su posición de equilibrio al bariar la distancia interatómica en un 10%\n",
    "\n",
    "Para el KCl: a=6.29Å, $\\quad\\beta= {1.97_{x10}}^{11} dinas/cm^2$ y $\\alpha = 1.75$ "
   ]
  },
  {
   "cell_type": "markdown",
   "metadata": {},
   "source": [
    "## 5. <span id=\"Problema5\">Los sólidos con enlace débil cristalizan en estructuras compactas. ¿Cómo explica usted ese hecho?</span>"
   ]
  },
  {
   "cell_type": "markdown",
   "metadata": {},
   "source": [
    "## Solución\n",
    "\n",
    "Las estructuras compactas se caracterizan por tener una menor distancia entre átomos, con respecto con estructuras con menor factor de compacidad. Y al tener una menor distancia, significa que su enlace es mas débil.\n"
   ]
  },
  {
   "cell_type": "markdown",
   "metadata": {},
   "source": [
    "## <span id=\"Problema6\">6. Se tiene un sólido con estructura hexagonal que crece en forma laminar en la dirección del eje C ¿ Qué puede usted inferir sobre la naturaleza de ese tipo de enlace en la dirección paralela y perpendicular de este eje?</span>"
   ]
  },
  {
   "cell_type": "markdown",
   "metadata": {},
   "source": [
    "## Solución\n",
    "\n",
    "La estructura hexagonal, junto con la fcc, son las estructuras con mayor factor de compacidad, por lo tanto son las que tienen enlaces más débiles. Por lo tanto es muy probable que sean enlaces ionicos."
   ]
  },
  {
   "cell_type": "markdown",
   "metadata": {},
   "source": [
    "## 7. <span id=\"Problema7\">Considere un sólido con enlace iónico y otro con enlace covalente que poseen iguales energías de cohesión e iguales distancias entre vecinos más próximos en el equilibrio. Explique cuál de los dos sólidos tendrá mayor fuerza. </span>\n",
    "\n",
    "(Sugerencia: Utilice la expresión del módulo de rigidez $\\beta = V \\left(\\frac{dR}{dV} \\right)^2\\left( \\frac{d^2U}{dR^2} \\right)$ evaluada en $R=R_0$ para analizar la respuesta"
   ]
  },
  {
   "cell_type": "markdown",
   "metadata": {},
   "source": [
    "## Solución\n",
    "\n",
    "El que tiene mayor fuerza es el sólido con enlace covalente, ya que $\\left(\\frac{d^2U}{dR^2}\\right)_{covalente} > \\left(\\frac{d^2U}{dR^2}\\right)_{ionico}$, y como el módulo de rigidez $\\beta \\propto \\left(\\frac{d^2U}{dR^2}\\right)$, por lo tanto $\\boxed{\\beta_{covalente} > \\beta_{ionico}}$ "
   ]
  },
  {
   "cell_type": "markdown",
   "metadata": {},
   "source": [
    "## 8. <span id=\"Problema8\">Conociendo que el CsCl tiene estructura cúbica y habiéndose determinado experimentalmente que la energía de cohesión es de ${6.15_{x10}}^{12}$ erg/mol, determine la distancia de los iones más próximos  al Cl. Considere $\\alpha = 1.76$ y el término repulsivo de la forma $\\frac{A}{R^{10}}$ </span>"
   ]
  },
  {
   "cell_type": "markdown",
   "metadata": {},
   "source": [
    "## 9. <span id=\"Problema9\">Explique porqué el C, Ge y Si cristalizan en la estructura del diamante, conociendo que la energía de enlace de estos elementos es del tipo covalente</span>"
   ]
  },
  {
   "cell_type": "markdown",
   "metadata": {},
   "source": [
    "## 10. <span id=\"Problema10\">Un cristal iónico \"X\" con estructura del CsCl es más duro que otro \"Y\" con igual estructura cristalina. ¿A qué factores microestructurales puede atribuirse ese hecho?</span>\n",
    "\n",
    "(Sugerencia: Para el análisis, utilice la expresión del módulo de rigidez)"
   ]
  },
  {
   "cell_type": "code",
   "execution_count": 39,
   "metadata": {},
   "outputs": [
    {
     "data": {
      "application/vnd.jupyter.widget-view+json": {
       "model_id": "03a4df7ca2ab4868aa5b78fad0c0ee7e",
       "version_major": 2,
       "version_minor": 0
      },
      "text/plain": [
       "Canvas(toolbar=Toolbar(toolitems=[('Home', 'Reset original view', 'home', 'home'), ('Back', 'Back to previous …"
      ]
     },
     "metadata": {},
     "output_type": "display_data"
    },
    {
     "data": {
      "text/plain": [
       "[<matplotlib.lines.Line2D at 0x12a6a5590>,\n",
       " <matplotlib.lines.Line2D at 0x129a9eed0>]"
      ]
     },
     "execution_count": 39,
     "metadata": {},
     "output_type": "execute_result"
    }
   ],
   "source": [
    "import matplotlib.pyplot as plt\n",
    "import numpy as np\n",
    "import math\n",
    "%matplotlib widget\n",
    "x=np.arange(1,10,.1)\n",
    "#Cambiar estos valores\n",
    "#===================== \n",
    "a=1\n",
    "b=1\n",
    "n=1\n",
    "m=2\n",
    "a1=2\n",
    "b1=2\n",
    "n1=1\n",
    "m1=(math.log(8/3)/math.log(2))\n",
    "#===================== \n",
    "fx=-(a/x**n)+(b/x**m)\n",
    "fy=-(a1/x**n1)+(b1/x**m1)\n",
    "plt.plot(x,fx,x,fy)"
   ]
  },
  {
   "cell_type": "code",
   "execution_count": null,
   "metadata": {},
   "outputs": [],
   "source": []
  }
 ],
 "metadata": {
  "kernelspec": {
   "display_name": "Python 3",
   "language": "python",
   "name": "python3"
  },
  "language_info": {
   "codemirror_mode": {
    "name": "ipython",
    "version": 3
   },
   "file_extension": ".py",
   "mimetype": "text/x-python",
   "name": "python",
   "nbconvert_exporter": "python",
   "pygments_lexer": "ipython3",
   "version": "3.7.4"
  }
 },
 "nbformat": 4,
 "nbformat_minor": 2
}
